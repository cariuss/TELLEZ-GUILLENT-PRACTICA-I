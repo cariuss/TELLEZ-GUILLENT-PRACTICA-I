{
 "cells": [
  {
   "cell_type": "code",
   "execution_count": 6,
   "id": "852757d1-2675-4548-8d4c-957c17da2645",
   "metadata": {},
   "outputs": [
    {
     "name": "stdout",
     "output_type": "stream",
     "text": [
      "✅ Dataset enriquecido y limpio generado: 6000 registros\n"
     ]
    },
    {
     "data": {
      "text/html": [
       "<div>\n",
       "<style scoped>\n",
       "    .dataframe tbody tr th:only-of-type {\n",
       "        vertical-align: middle;\n",
       "    }\n",
       "\n",
       "    .dataframe tbody tr th {\n",
       "        vertical-align: top;\n",
       "    }\n",
       "\n",
       "    .dataframe thead th {\n",
       "        text-align: right;\n",
       "    }\n",
       "</style>\n",
       "<table border=\"1\" class=\"dataframe\">\n",
       "  <thead>\n",
       "    <tr style=\"text-align: right;\">\n",
       "      <th></th>\n",
       "      <th>id</th>\n",
       "      <th>texto</th>\n",
       "      <th>sentimiento</th>\n",
       "    </tr>\n",
       "  </thead>\n",
       "  <tbody>\n",
       "    <tr>\n",
       "      <th>0</th>\n",
       "      <td>1</td>\n",
       "      <td>Los trenes son modernos y cómodos en Hospital ...</td>\n",
       "      <td>1</td>\n",
       "    </tr>\n",
       "    <tr>\n",
       "      <th>1</th>\n",
       "      <td>2</td>\n",
       "      <td>El metro siempre llega a tiempo en la estación...</td>\n",
       "      <td>1</td>\n",
       "    </tr>\n",
       "    <tr>\n",
       "      <th>2</th>\n",
       "      <td>3</td>\n",
       "      <td>El servicio tiene muchas demoras por la avenid...</td>\n",
       "      <td>0</td>\n",
       "    </tr>\n",
       "    <tr>\n",
       "      <th>3</th>\n",
       "      <td>4</td>\n",
       "      <td>El servicio es eficiente y rápido en Aguacatal...</td>\n",
       "      <td>1</td>\n",
       "    </tr>\n",
       "    <tr>\n",
       "      <th>4</th>\n",
       "      <td>5</td>\n",
       "      <td>La limpieza es constante y destacable en Aceve...</td>\n",
       "      <td>1</td>\n",
       "    </tr>\n",
       "    <tr>\n",
       "      <th>5</th>\n",
       "      <td>6</td>\n",
       "      <td>La seguridad en ciertas estaciones es baja por...</td>\n",
       "      <td>0</td>\n",
       "    </tr>\n",
       "    <tr>\n",
       "      <th>6</th>\n",
       "      <td>7</td>\n",
       "      <td>La estación estaba demasiado llena en Itagüí y...</td>\n",
       "      <td>0</td>\n",
       "    </tr>\n",
       "    <tr>\n",
       "      <th>7</th>\n",
       "      <td>8</td>\n",
       "      <td>El servicio no cumple con lo esperado en Trice...</td>\n",
       "      <td>0</td>\n",
       "    </tr>\n",
       "    <tr>\n",
       "      <th>8</th>\n",
       "      <td>9</td>\n",
       "      <td>El metro es puntual y confiable cerca a la est...</td>\n",
       "      <td>1</td>\n",
       "    </tr>\n",
       "    <tr>\n",
       "      <th>9</th>\n",
       "      <td>10</td>\n",
       "      <td>El servicio de cable es rápido y seguro en Bel...</td>\n",
       "      <td>1</td>\n",
       "    </tr>\n",
       "  </tbody>\n",
       "</table>\n",
       "</div>"
      ],
      "text/plain": [
       "   id                                              texto  sentimiento\n",
       "0   1  Los trenes son modernos y cómodos en Hospital ...            1\n",
       "1   2  El metro siempre llega a tiempo en la estación...            1\n",
       "2   3  El servicio tiene muchas demoras por la avenid...            0\n",
       "3   4  El servicio es eficiente y rápido en Aguacatal...            1\n",
       "4   5  La limpieza es constante y destacable en Aceve...            1\n",
       "5   6  La seguridad en ciertas estaciones es baja por...            0\n",
       "6   7  La estación estaba demasiado llena en Itagüí y...            0\n",
       "7   8  El servicio no cumple con lo esperado en Trice...            0\n",
       "8   9  El metro es puntual y confiable cerca a la est...            1\n",
       "9  10  El servicio de cable es rápido y seguro en Bel...            1"
      ]
     },
     "execution_count": 6,
     "metadata": {},
     "output_type": "execute_result"
    }
   ],
   "source": [
    "import pandas as pd\n",
    "import numpy as np\n",
    "import random\n",
    "\n",
    "from tensorflow.keras.preprocessing.text import Tokenizer\n",
    "from tensorflow.keras.preprocessing.sequence import pad_sequences\n",
    "from sklearn.model_selection import train_test_split\n",
    "\n",
    "\n",
    "random.seed(42)\n",
    "np.random.seed(42)\n",
    "\n",
    "# === FRASES BASE ===\n",
    "positivas = [\n",
    "    \"El metro siempre llega a tiempo\",\n",
    "    \"El servicio es muy seguro\",\n",
    "    \"Me siento orgulloso del transporte en Medellín\",\n",
    "    \"Las estaciones están limpias y ordenadas\",\n",
    "    \"Excelente conexión con el tranvía\",\n",
    "    \"Los buses integrados facilitan el transporte\",\n",
    "    \"La atención del personal es muy buena\",\n",
    "    \"El servicio es eficiente y rápido\",\n",
    "    \"La experiencia de viaje es cómoda\",\n",
    "    \"El sistema es un ejemplo para otras ciudades\",\n",
    "    \"El personal es muy amable con los usuarios\",\n",
    "    \"La información en las pantallas es clara\",\n",
    "    \"El metro es puntual y confiable\",\n",
    "    \"El aire acondicionado funciona bien\",\n",
    "    \"Los trenes son modernos y cómodos\",\n",
    "    \"El sistema es muy organizado\",\n",
    "    \"La integración con el metrocable es excelente\",\n",
    "    \"El viaje es tranquilo y seguro\",\n",
    "    \"El servicio me ahorra mucho tiempo\",\n",
    "    \"El transporte es una solución ejemplar para la ciudad\",\n",
    "    \"El pago con tarjeta es ágil y práctico\",\n",
    "    \"La aplicación móvil funciona muy bien\",\n",
    "    \"Los guardias brindan confianza y seguridad\",\n",
    "    \"La frecuencia de los trenes es adecuada\",\n",
    "    \"El servicio en festivos es excelente\",\n",
    "    \"El metro es un símbolo de cultura ciudadana\",\n",
    "    \"La señalización es clara y fácil de seguir\",\n",
    "    \"El servicio de cable es rápido y seguro\",\n",
    "    \"La red de transporte está bien integrada\",\n",
    "    \"La limpieza es constante y destacable\"\n",
    "]\n",
    "\n",
    "negativas = [\n",
    "    \"La estación estaba demasiado llena\",\n",
    "    \"El servicio tiene muchas demoras\",\n",
    "    \"Los buses alimentadores son muy lentos\",\n",
    "    \"El precio del pasaje es muy alto\",\n",
    "    \"La calidad del servicio ha bajado\",\n",
    "    \"Tuve que esperar mucho tiempo\",\n",
    "    \"El metro iba demasiado congestionado\",\n",
    "    \"El mantenimiento de algunas estaciones es deficiente\",\n",
    "    \"No hay suficientes rutas para ciertos barrios\",\n",
    "    \"El servicio falla constantemente en horas pico\",\n",
    "    \"El aire acondicionado no funciona bien\",\n",
    "    \"Los trenes se demoran en salir\",\n",
    "    \"Las escaleras eléctricas no sirven\",\n",
    "    \"El viaje fue incómodo y largo\",\n",
    "    \"La información en pantallas es confusa\",\n",
    "    \"El personal no resolvió mis dudas\",\n",
    "    \"El metrocable estuvo fuera de servicio\",\n",
    "    \"Las filas para ingresar son muy largas\",\n",
    "    \"La app de recarga presenta fallas\",\n",
    "    \"El servicio no cumple con lo esperado\",\n",
    "    \"El sonido en los altavoces es deficiente\",\n",
    "    \"Los baños no estaban limpios\",\n",
    "    \"El tiempo de espera fue exagerado\",\n",
    "    \"Algunas estaciones no tienen buena iluminación\",\n",
    "    \"El servicio en festivos es muy limitado\",\n",
    "    \"La tarjeta a veces presenta errores de validación\",\n",
    "    \"El precio no corresponde con la calidad\",\n",
    "    \"Las puertas tardan demasiado en abrirse\",\n",
    "    \"La seguridad en ciertas estaciones es baja\",\n",
    "    \"El viaje resultó agotador\"\n",
    "]\n",
    "\n",
    "# === VARIACIONES ===\n",
    "lugares = [\n",
    "    \"en la estación San Antonio\", \"en Bello\", \"en Itagüí\", \"en Niquía\", \"en Sabaneta\",\n",
    "    \"en Envigado\", \"en la estación Poblado\", \"en el centro de la ciudad\",\n",
    "    \"por la avenida Oriental\", \"cerca a la estación Industriales\",\n",
    "    \"en la estación Universidad\", \"en Acevedo\", \"en Prado\", \"en Aguacatala\",\n",
    "    \"en la estación Caribe\", \"en Hospital\", \"en la estación Floresta\", \"en Tricentenario\"\n",
    "]\n",
    "\n",
    "tiempos = [\n",
    "    \"en hora pico\", \"por la mañana\", \"en la noche\", \"los fines de semana\",\n",
    "    \"cuando voy a trabajar\", \"cuando regreso a casa\", \"a la salida de la universidad\",\n",
    "    \"después de las seis\", \"en días de lluvia\", \"cuando hay eventos en el estadio\",\n",
    "    \"durante la Feria de las Flores\", \"en temporada decembrina\",\n",
    "    \"a mitad de semana\", \"en vacaciones\", \"cuando hay conciertos en la ciudad\"\n",
    "]\n",
    "\n",
    "opiniones_pos = [\n",
    "    \"y eso me parece excelente\", \"lo que genera confianza\", \"y es algo que destaco\",\n",
    "    \"lo cual me hace sentir tranquilo\", \"y me parece muy bacano\", \"lo que ayuda bastante\",\n",
    "    \"y me da tranquilidad\", \"lo cual es admirable\", \"y me alegra mucho\",\n",
    "    \"y considero que es un orgullo paisa\", \"y me parece un gran beneficio\",\n",
    "    \"y me motiva a usarlo todos los días\", \"y me inspira confianza\", \"y me hace sentir satisfecho\"\n",
    "]\n",
    "\n",
    "opiniones_neg = [\n",
    "    \"y debería mejorar aún más\", \"lo que me incomodó bastante\", \"y no debería pasar\",\n",
    "    \"y causa muchos problemas\", \"y me dejó una mala impresión\", \"y me parece un abuso\",\n",
    "    \"y me generó mucha rabia\", \"lo cual me preocupa bastante\", \"y me parece una pérdida de tiempo\",\n",
    "    \"y eso desanima mucho\", \"y genera desconfianza\", \"y afecta negativamente mi día\",\n",
    "    \"y me parece frustrante\", \"y me dejó inconforme\", \"y es un gran problema para los usuarios\"\n",
    "]\n",
    "\n",
    "# === GENERADOR ===\n",
    "def generar_opinion(frases, sentimiento, n=3000):\n",
    "    opiniones = []\n",
    "    for _ in range(n):\n",
    "        base = random.choice(frases)\n",
    "\n",
    "        variaciones = []\n",
    "        if random.random() < 0.8:  # lugar\n",
    "            variaciones.append(random.choice(lugares))\n",
    "        if random.random() < 0.8:  # tiempo\n",
    "            variaciones.append(random.choice(tiempos))\n",
    "        if random.random() < 0.9:  # opinión extra positiva o negativa\n",
    "            if sentimiento == 1:\n",
    "                variaciones.append(random.choice(opiniones_pos))\n",
    "            else:\n",
    "                variaciones.append(random.choice(opiniones_neg))\n",
    "\n",
    "        texto = f\"{base} {' '.join(variaciones)}\".strip()\n",
    "        opiniones.append((texto, sentimiento))\n",
    "    return opiniones\n",
    "\n",
    "# === GENERAMOS DATASET ===\n",
    "positivas_gen = generar_opinion(positivas, 1, 3000)\n",
    "negativas_gen = generar_opinion(negativas, 0, 3000)\n",
    "\n",
    "data = positivas_gen + negativas_gen\n",
    "random.shuffle(data)\n",
    "\n",
    "df = pd.DataFrame(data, columns=[\"texto\", \"sentimiento\"])\n",
    "df[\"id\"] = range(1, len(df) + 1)\n",
    "df = df[[\"id\", \"texto\", \"sentimiento\"]]\n",
    "\n",
    "# Guardar dataset\n",
    "df.to_json(\"opiniones.json\", orient=\"records\", force_ascii=False, indent=2)\n",
    "\n",
    "print(\"✅ Dataset enriquecido y limpio generado: 6000 registros\")\n",
    "df.head(10)\n"
   ]
  },
  {
   "cell_type": "code",
   "execution_count": 7,
   "id": "9293309a-cee5-4250-811d-b10e1a789948",
   "metadata": {},
   "outputs": [
    {
     "name": "stdout",
     "output_type": "stream",
     "text": [
      "✅ Preprocesamiento completo\n",
      "Tamaño vocabulario: 277\n",
      "Forma X_train_pad: (4800, 30)\n",
      "Forma X_test_pad: (1200, 30)\n"
     ]
    }
   ],
   "source": [
    "\n",
    "# === Cargar dataset desde JSON ===\n",
    "df = pd.read_json(\"opiniones.json\")\n",
    "\n",
    "# Variables\n",
    "X = df[\"texto\"].values\n",
    "y = df[\"sentimiento\"].values\n",
    "\n",
    "# === Split 80/20 (train/test) ===\n",
    "X_train, X_test, y_train, y_test = train_test_split(\n",
    "    X, y, test_size=0.2, random_state=42, stratify=y\n",
    ")\n",
    "\n",
    "# === Tokenización ===\n",
    "num_words = 10000   # tamaño del vocabulario\n",
    "oov_token = \"<OOV>\"\n",
    "\n",
    "tokenizer = Tokenizer(num_words=num_words, oov_token=oov_token)\n",
    "tokenizer.fit_on_texts(X_train)\n",
    "\n",
    "# Convertir a secuencias\n",
    "X_train_seq = tokenizer.texts_to_sequences(X_train)\n",
    "X_test_seq = tokenizer.texts_to_sequences(X_test)\n",
    "\n",
    "# === Padding (normalizamos longitud de frases) ===\n",
    "max_len = 30  # longitud máxima de frase (ajustable según análisis)\n",
    "X_train_pad = pad_sequences(X_train_seq, maxlen=max_len, padding=\"post\", truncating=\"post\")\n",
    "X_test_pad = pad_sequences(X_test_seq, maxlen=max_len, padding=\"post\", truncating=\"post\")\n",
    "\n",
    "print(\"✅ Preprocesamiento completo\")\n",
    "print(\"Tamaño vocabulario:\", len(tokenizer.word_index))\n",
    "print(\"Forma X_train_pad:\", X_train_pad.shape)\n",
    "print(\"Forma X_test_pad:\", X_test_pad.shape)\n"
   ]
  },
  {
   "cell_type": "code",
   "execution_count": 9,
   "id": "01369415-de01-4259-9327-f14594c067dd",
   "metadata": {},
   "outputs": [
    {
     "data": {
      "text/html": [
       "<pre style=\"white-space:pre;overflow-x:auto;line-height:normal;font-family:Menlo,'DejaVu Sans Mono',consolas,'Courier New',monospace\"><span style=\"font-weight: bold\">Model: \"sequential_1\"</span>\n",
       "</pre>\n"
      ],
      "text/plain": [
       "\u001b[1mModel: \"sequential_1\"\u001b[0m\n"
      ]
     },
     "metadata": {},
     "output_type": "display_data"
    },
    {
     "data": {
      "text/html": [
       "<pre style=\"white-space:pre;overflow-x:auto;line-height:normal;font-family:Menlo,'DejaVu Sans Mono',consolas,'Courier New',monospace\">┏━━━━━━━━━━━━━━━━━━━━━━━━━━━━━━━━━┳━━━━━━━━━━━━━━━━━━━━━━━━┳━━━━━━━━━━━━━━━┓\n",
       "┃<span style=\"font-weight: bold\"> Layer (type)                    </span>┃<span style=\"font-weight: bold\"> Output Shape           </span>┃<span style=\"font-weight: bold\">       Param # </span>┃\n",
       "┡━━━━━━━━━━━━━━━━━━━━━━━━━━━━━━━━━╇━━━━━━━━━━━━━━━━━━━━━━━━╇━━━━━━━━━━━━━━━┩\n",
       "│ embedding_1 (<span style=\"color: #0087ff; text-decoration-color: #0087ff\">Embedding</span>)         │ ?                      │   <span style=\"color: #00af00; text-decoration-color: #00af00\">0</span> (unbuilt) │\n",
       "├─────────────────────────────────┼────────────────────────┼───────────────┤\n",
       "│ lstm_1 (<span style=\"color: #0087ff; text-decoration-color: #0087ff\">LSTM</span>)                   │ ?                      │   <span style=\"color: #00af00; text-decoration-color: #00af00\">0</span> (unbuilt) │\n",
       "├─────────────────────────────────┼────────────────────────┼───────────────┤\n",
       "│ dropout_2 (<span style=\"color: #0087ff; text-decoration-color: #0087ff\">Dropout</span>)             │ ?                      │             <span style=\"color: #00af00; text-decoration-color: #00af00\">0</span> │\n",
       "├─────────────────────────────────┼────────────────────────┼───────────────┤\n",
       "│ dense_2 (<span style=\"color: #0087ff; text-decoration-color: #0087ff\">Dense</span>)                 │ ?                      │   <span style=\"color: #00af00; text-decoration-color: #00af00\">0</span> (unbuilt) │\n",
       "├─────────────────────────────────┼────────────────────────┼───────────────┤\n",
       "│ dropout_3 (<span style=\"color: #0087ff; text-decoration-color: #0087ff\">Dropout</span>)             │ ?                      │             <span style=\"color: #00af00; text-decoration-color: #00af00\">0</span> │\n",
       "├─────────────────────────────────┼────────────────────────┼───────────────┤\n",
       "│ dense_3 (<span style=\"color: #0087ff; text-decoration-color: #0087ff\">Dense</span>)                 │ ?                      │   <span style=\"color: #00af00; text-decoration-color: #00af00\">0</span> (unbuilt) │\n",
       "└─────────────────────────────────┴────────────────────────┴───────────────┘\n",
       "</pre>\n"
      ],
      "text/plain": [
       "┏━━━━━━━━━━━━━━━━━━━━━━━━━━━━━━━━━┳━━━━━━━━━━━━━━━━━━━━━━━━┳━━━━━━━━━━━━━━━┓\n",
       "┃\u001b[1m \u001b[0m\u001b[1mLayer (type)                   \u001b[0m\u001b[1m \u001b[0m┃\u001b[1m \u001b[0m\u001b[1mOutput Shape          \u001b[0m\u001b[1m \u001b[0m┃\u001b[1m \u001b[0m\u001b[1m      Param #\u001b[0m\u001b[1m \u001b[0m┃\n",
       "┡━━━━━━━━━━━━━━━━━━━━━━━━━━━━━━━━━╇━━━━━━━━━━━━━━━━━━━━━━━━╇━━━━━━━━━━━━━━━┩\n",
       "│ embedding_1 (\u001b[38;5;33mEmbedding\u001b[0m)         │ ?                      │   \u001b[38;5;34m0\u001b[0m (unbuilt) │\n",
       "├─────────────────────────────────┼────────────────────────┼───────────────┤\n",
       "│ lstm_1 (\u001b[38;5;33mLSTM\u001b[0m)                   │ ?                      │   \u001b[38;5;34m0\u001b[0m (unbuilt) │\n",
       "├─────────────────────────────────┼────────────────────────┼───────────────┤\n",
       "│ dropout_2 (\u001b[38;5;33mDropout\u001b[0m)             │ ?                      │             \u001b[38;5;34m0\u001b[0m │\n",
       "├─────────────────────────────────┼────────────────────────┼───────────────┤\n",
       "│ dense_2 (\u001b[38;5;33mDense\u001b[0m)                 │ ?                      │   \u001b[38;5;34m0\u001b[0m (unbuilt) │\n",
       "├─────────────────────────────────┼────────────────────────┼───────────────┤\n",
       "│ dropout_3 (\u001b[38;5;33mDropout\u001b[0m)             │ ?                      │             \u001b[38;5;34m0\u001b[0m │\n",
       "├─────────────────────────────────┼────────────────────────┼───────────────┤\n",
       "│ dense_3 (\u001b[38;5;33mDense\u001b[0m)                 │ ?                      │   \u001b[38;5;34m0\u001b[0m (unbuilt) │\n",
       "└─────────────────────────────────┴────────────────────────┴───────────────┘\n"
      ]
     },
     "metadata": {},
     "output_type": "display_data"
    },
    {
     "data": {
      "text/html": [
       "<pre style=\"white-space:pre;overflow-x:auto;line-height:normal;font-family:Menlo,'DejaVu Sans Mono',consolas,'Courier New',monospace\"><span style=\"font-weight: bold\"> Total params: </span><span style=\"color: #00af00; text-decoration-color: #00af00\">0</span> (0.00 B)\n",
       "</pre>\n"
      ],
      "text/plain": [
       "\u001b[1m Total params: \u001b[0m\u001b[38;5;34m0\u001b[0m (0.00 B)\n"
      ]
     },
     "metadata": {},
     "output_type": "display_data"
    },
    {
     "data": {
      "text/html": [
       "<pre style=\"white-space:pre;overflow-x:auto;line-height:normal;font-family:Menlo,'DejaVu Sans Mono',consolas,'Courier New',monospace\"><span style=\"font-weight: bold\"> Trainable params: </span><span style=\"color: #00af00; text-decoration-color: #00af00\">0</span> (0.00 B)\n",
       "</pre>\n"
      ],
      "text/plain": [
       "\u001b[1m Trainable params: \u001b[0m\u001b[38;5;34m0\u001b[0m (0.00 B)\n"
      ]
     },
     "metadata": {},
     "output_type": "display_data"
    },
    {
     "data": {
      "text/html": [
       "<pre style=\"white-space:pre;overflow-x:auto;line-height:normal;font-family:Menlo,'DejaVu Sans Mono',consolas,'Courier New',monospace\"><span style=\"font-weight: bold\"> Non-trainable params: </span><span style=\"color: #00af00; text-decoration-color: #00af00\">0</span> (0.00 B)\n",
       "</pre>\n"
      ],
      "text/plain": [
       "\u001b[1m Non-trainable params: \u001b[0m\u001b[38;5;34m0\u001b[0m (0.00 B)\n"
      ]
     },
     "metadata": {},
     "output_type": "display_data"
    }
   ],
   "source": [
    "from tensorflow.keras.models import Sequential\n",
    "from tensorflow.keras.layers import Embedding, LSTM, Dense, Dropout\n",
    "\n",
    "embedding_dim = 64   # tamaño del embedding\n",
    "lstm_units = 64      # número de neuronas en LSTM\n",
    "\n",
    "model = Sequential([\n",
    "    Embedding(input_dim=10000, output_dim=embedding_dim),  # sin input_length\n",
    "    LSTM(lstm_units, return_sequences=False),\n",
    "    Dropout(0.5),\n",
    "    Dense(32, activation=\"relu\"),\n",
    "    Dropout(0.3),\n",
    "    Dense(1, activation=\"sigmoid\")\n",
    "])\n",
    "\n",
    "model.compile(\n",
    "    loss=\"binary_crossentropy\",\n",
    "    optimizer=\"adam\",\n",
    "    metrics=[\"accuracy\"]\n",
    ")\n",
    "\n",
    "model.summary()\n"
   ]
  },
  {
   "cell_type": "code",
   "execution_count": 10,
   "id": "a5950fe4-4d2b-43c9-b84e-465c2df8f3dc",
   "metadata": {},
   "outputs": [
    {
     "name": "stdout",
     "output_type": "stream",
     "text": [
      "Epoch 1/5\n",
      "\u001b[1m75/75\u001b[0m \u001b[32m━━━━━━━━━━━━━━━━━━━━\u001b[0m\u001b[37m\u001b[0m \u001b[1m4s\u001b[0m 26ms/step - accuracy: 0.7896 - loss: 0.3827 - val_accuracy: 0.9700 - val_loss: 0.1538\n",
      "Epoch 2/5\n",
      "\u001b[1m75/75\u001b[0m \u001b[32m━━━━━━━━━━━━━━━━━━━━\u001b[0m\u001b[37m\u001b[0m \u001b[1m2s\u001b[0m 25ms/step - accuracy: 0.9971 - loss: 0.0232 - val_accuracy: 1.0000 - val_loss: 9.0864e-04\n",
      "Epoch 3/5\n",
      "\u001b[1m75/75\u001b[0m \u001b[32m━━━━━━━━━━━━━━━━━━━━\u001b[0m\u001b[37m\u001b[0m \u001b[1m2s\u001b[0m 24ms/step - accuracy: 0.9977 - loss: 0.0181 - val_accuracy: 0.9833 - val_loss: 0.1246\n",
      "Epoch 4/5\n",
      "\u001b[1m75/75\u001b[0m \u001b[32m━━━━━━━━━━━━━━━━━━━━\u001b[0m\u001b[37m\u001b[0m \u001b[1m2s\u001b[0m 25ms/step - accuracy: 0.9923 - loss: 0.0528 - val_accuracy: 0.9842 - val_loss: 0.0785\n",
      "Epoch 5/5\n",
      "\u001b[1m75/75\u001b[0m \u001b[32m━━━━━━━━━━━━━━━━━━━━\u001b[0m\u001b[37m\u001b[0m \u001b[1m2s\u001b[0m 23ms/step - accuracy: 0.9906 - loss: 0.0444 - val_accuracy: 0.9983 - val_loss: 0.0096\n"
     ]
    }
   ],
   "source": [
    "history = model.fit(\n",
    "    X_train_pad, y_train,\n",
    "    epochs=5,              # puedes ajustar a más épocas si quieres\n",
    "    batch_size=64,\n",
    "    validation_data=(X_test_pad, y_test),\n",
    "    verbose=1\n",
    ")"
   ]
  },
  {
   "cell_type": "code",
   "execution_count": 11,
   "id": "15944870-cd07-4d4f-ade6-aa4f3160bf11",
   "metadata": {},
   "outputs": [
    {
     "name": "stdout",
     "output_type": "stream",
     "text": [
      "✅ Accuracy en test: 0.9983\n"
     ]
    }
   ],
   "source": [
    "# Evaluar en test\n",
    "loss, acc = model.evaluate(X_test_pad, y_test, verbose=0)\n",
    "print(f\"✅ Accuracy en test: {acc:.4f}\")\n"
   ]
  },
  {
   "cell_type": "code",
   "execution_count": 12,
   "id": "8d26a335-d843-4679-80b1-5fc637459715",
   "metadata": {},
   "outputs": [
    {
     "data": {
      "image/png": "[encoded data removed]",
      "text/plain": [
       "<Figure size 1200x500 with 2 Axes>"
      ]
     },
     "metadata": {},
     "output_type": "display_data"
    }
   ],
   "source": [
    "import matplotlib.pyplot as plt\n",
    "\n",
    "plt.figure(figsize=(12,5))\n",
    "\n",
    "# Accuracy\n",
    "plt.subplot(1,2,1)\n",
    "plt.plot(history.history[\"accuracy\"], label=\"Train Accuracy\")\n",
    "plt.plot(history.history[\"val_accuracy\"], label=\"Val Accuracy\")\n",
    "plt.legend()\n",
    "plt.title(\"Evolución de Accuracy\")\n",
    "\n",
    "# Loss\n",
    "plt.subplot(1,2,2)\n",
    "plt.plot(history.history[\"loss\"], label=\"Train Loss\")\n",
    "plt.plot(history.history[\"val_loss\"], label=\"Val Loss\")\n",
    "plt.legend()\n",
    "plt.title(\"Evolución de Loss\")\n",
    "\n",
    "plt.show()\n"
   ]
  },
  {
   "cell_type": "code",
   "execution_count": 13,
   "id": "4e21171a-b0fd-4864-ad89-89f508f03cda",
   "metadata": {},
   "outputs": [
    {
     "name": "stdout",
     "output_type": "stream",
     "text": [
      "✅ Accuracy Regresión Logística en test: 1.0000\n"
     ]
    }
   ],
   "source": [
    "from sklearn.feature_extraction.text import TfidfVectorizer\n",
    "from sklearn.linear_model import LogisticRegression\n",
    "from sklearn.metrics import accuracy_score\n",
    "\n",
    "# === TF-IDF para vectorizar texto ===\n",
    "vectorizer = TfidfVectorizer(max_features=10000)\n",
    "X_train_tfidf = vectorizer.fit_transform(X_train)\n",
    "X_test_tfidf = vectorizer.transform(X_test)\n",
    "\n",
    "# === Modelo de Regresión Logística ===\n",
    "log_reg = LogisticRegression(max_iter=1000)\n",
    "log_reg.fit(X_train_tfidf, y_train)\n",
    "\n",
    "# Evaluar\n",
    "y_pred = log_reg.predict(X_test_tfidf)\n",
    "acc_logreg = accuracy_score(y_test, y_pred)\n",
    "\n",
    "print(f\"✅ Accuracy Regresión Logística en test: {acc_logreg:.4f}\")\n"
   ]
  },
  {
   "cell_type": "code",
   "execution_count": 17,
   "id": "29d37618-1d8d-4cdd-af2a-ec4bb5dccee8",
   "metadata": {},
   "outputs": [
    {
     "name": "stdout",
     "output_type": "stream",
     "text": [
      "\u001b[1m1/1\u001b[0m \u001b[32m━━━━━━━━━━━━━━━━━━━━\u001b[0m\u001b[37m\u001b[0m \u001b[1m0s\u001b[0m 24ms/step\n",
      "Texto: El servicio del metro es genial y muy puntual\n",
      "Probabilidad positivo: 0.9999 -> Predicción: Positiva ✅\n",
      "\n",
      "Texto: Tuve que esperar demasiado en San Antonio y me incomodó bastante\n",
      "Probabilidad positivo: 0.0020 -> Predicción: Negativa ❌\n",
      "\n",
      "Texto: El aire acondicionado no funcionaba y el viaje fue incómodo\n",
      "Probabilidad positivo: 0.0020 -> Predicción: Negativa ❌\n",
      "\n",
      "Texto: Los trenes estaban limpios y el personal fue amable\n",
      "Probabilidad positivo: 0.0075 -> Predicción: Negativa ❌\n",
      "\n",
      "Texto: El precio del pasaje está muy alto y debería mejorar\n",
      "Probabilidad positivo: 0.0020 -> Predicción: Negativa ❌\n",
      "\n"
     ]
    }
   ],
   "source": [
    "# === Función para predecir nuevas opiniones ===\n",
    "def predecir_opinion(textos):\n",
    "    # Convertimos a secuencia de enteros\n",
    "    seq = tokenizer.texts_to_sequences(textos)\n",
    "    # Aplicamos padding\n",
    "    pad = pad_sequences(seq, maxlen=30, padding=\"post\", truncating=\"post\")\n",
    "    # Predicción\n",
    "    preds = model.predict(pad)\n",
    "    # Resultado en binario con umbral 0.5\n",
    "    clases = (preds > 0.5).astype(\"int32\")\n",
    "    \n",
    "    for t, p, c in zip(textos, preds, clases):\n",
    "        print(f\"Texto: {t}\")\n",
    "        print(f\"Probabilidad positivo: {p[0]:.4f} -> Predicción: {'Positiva ✅' if c[0]==1 else 'Negativa ❌'}\\n\")\n",
    "\n",
    "# === Ejemplos de prueba manual ===\n",
    "nuevas_opiniones = [\n",
    "    \"El servicio del metro es genial y muy puntual\",\n",
    "    \"Tuve que esperar demasiado en San Antonio y me incomodó bastante\",\n",
    "    \"El aire acondicionado no funcionaba y el viaje fue incómodo\",\n",
    "    \"Los trenes estaban limpios y el personal fue amable\",\n",
    "    \"El precio del pasaje está muy alto y debería mejorar\"\n",
    "]\n",
    "\n",
    "predecir_opinion(nuevas_opiniones)\n"
   ]
  },
  {
   "cell_type": "code",
   "execution_count": null,
   "id": "992109cd-e24b-4b59-a1ee-0d82187fd2b9",
   "metadata": {},
   "outputs": [],
   "source": []
  }
 ],
 "metadata": {
  "kernelspec": {
   "display_name": "tellez-guillent-practica-i",
   "language": "python",
   "name": "tellez-guillent-practica-i"
  },
  "language_info": {
   "codemirror_mode": {
    "name": "ipython",
    "version": 3
   },
   "file_extension": ".py",
   "mimetype": "text/x-python",
   "name": "python",
   "nbconvert_exporter": "python",
   "pygments_lexer": "ipython3",
   "version": "3.13.5"
  }
 },
 "nbformat": 4,
 "nbformat_minor": 5
}
